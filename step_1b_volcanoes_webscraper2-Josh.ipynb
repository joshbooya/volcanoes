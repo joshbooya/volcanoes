{
 "cells": [
  {
   "cell_type": "code",
   "execution_count": 1,
   "metadata": {
    "collapsed": true
   },
   "outputs": [],
   "source": [
    "#Project 02 - Volcanoes\n",
    "#Web Scraping for Volcano images and twitter feeds"
   ]
  },
  {
   "cell_type": "code",
   "execution_count": 2,
   "metadata": {
    "collapsed": true
   },
   "outputs": [],
   "source": [
    "# import libraries and dependencies\n",
    "\n",
    "import time\n",
    "from splinter import Browser\n",
    "from bs4 import BeautifulSoup as bs\n",
    "import requests\n",
    "import pandas as pd\n",
    "import numpy as np\n",
    "from selenium import webdriver"
   ]
  },
  {
   "cell_type": "markdown",
   "metadata": {},
   "source": [
    "# Volcano Images"
   ]
  },
  {
   "cell_type": "code",
   "execution_count": 3,
   "metadata": {
    "collapsed": true
   },
   "outputs": [],
   "source": [
    "# Smithsonian Institution URL to Scrape for Volcano Images\n",
    "\n",
    "executable_path = {'executable_path': 'chromedriver'}\n",
    "browser = Browser('chrome', **executable_path, headless=True)\n",
    "vol_url = 'http://volcano.si.edu/'\n",
    "browser.visit(vol_url)"
   ]
  },
  {
   "cell_type": "code",
   "execution_count": 4,
   "metadata": {
    "collapsed": true
   },
   "outputs": [],
   "source": [
    "# Retrieve images\n",
    "\n",
    "html = browser.html\n",
    "soup = bs(html, 'html.parser')\n"
   ]
  },
  {
   "cell_type": "code",
   "execution_count": 5,
   "metadata": {},
   "outputs": [
    {
     "name": "stdout",
     "output_type": "stream",
     "text": [
      "['http://volcano.si.edu/photos/full/024028.jpg', 'http://volcano.si.edu/photos/full/100071.jpg', 'http://volcano.si.edu/photos/full/120046.jpg', 'http://volcano.si.edu/photos/full/055014.jpg', 'http://volcano.si.edu/photos/full/066067.jpg', 'http://volcano.si.edu/photos/full/118070.jpg', 'http://volcano.si.edu/photos/full/112094.jpg', 'http://volcano.si.edu/photos/full/109077.jpg', 'http://volcano.si.edu/photos/full/014009.jpg']\n"
     ]
    }
   ],
   "source": [
    "# Find the div that will allow you to retrieve the images from the home page of Smithsonian\n",
    "# loop through to get all the images and append to a list\n",
    "\n",
    "vol_img = []\n",
    "\n",
    "for link in soup.find_all(alt=\"Volcano photo slideshow\"):\n",
    "    vol_img.append(f'http://volcano.si.edu{link[\"src\"]}')\n",
    "\n",
    "print(vol_img)\n"
   ]
  },
  {
   "cell_type": "code",
   "execution_count": 6,
   "metadata": {},
   "outputs": [
    {
     "name": "stdout",
     "output_type": "stream",
     "text": [
      "http://volcano.si.edu/photos/full/024028.jpg\n"
     ]
    }
   ],
   "source": [
    "# To print one image, you must use index (there's 9, [0], [1], [2], [3], [4], [5], [6], [7], [8])\n",
    "print(vol_img[0])"
   ]
  },
  {
   "cell_type": "code",
   "execution_count": null,
   "metadata": {
    "collapsed": true
   },
   "outputs": [],
   "source": []
  },
  {
   "cell_type": "code",
   "execution_count": null,
   "metadata": {
    "collapsed": true
   },
   "outputs": [],
   "source": []
  },
  {
   "cell_type": "markdown",
   "metadata": {
    "collapsed": true
   },
   "source": [
    "# Volcano Twitter Feeds"
   ]
  },
  {
   "cell_type": "markdown",
   "metadata": {
    "collapsed": true
   },
   "source": [
    "\n"
   ]
  },
  {
   "cell_type": "code",
   "execution_count": 7,
   "metadata": {
    "collapsed": true
   },
   "outputs": [],
   "source": [
    "# Retrieve latest twitter feeds about volcanoes from USGS Volcanoes twitter site"
   ]
  },
  {
   "cell_type": "code",
   "execution_count": 8,
   "metadata": {
    "collapsed": true
   },
   "outputs": [],
   "source": [
    "# USGS Volcanoes\n",
    "usgsvolcano_url = 'https://twitter.com/usgsvolcanoes?lang=en'"
   ]
  },
  {
   "cell_type": "code",
   "execution_count": 9,
   "metadata": {
    "collapsed": true
   },
   "outputs": [],
   "source": [
    "# Retrieve data from USGS Volcanoes\n",
    "html = requests.get(usgsvolcano_url)\n",
    "\n",
    "#Create BeautifulSoup object; parse with 'html.parser'\n",
    "soup = bs(html.text, 'html.parser')"
   ]
  },
  {
   "cell_type": "code",
   "execution_count": 10,
   "metadata": {
    "collapsed": true
   },
   "outputs": [],
   "source": [
    "# Find the div that will allow you to retrieve USGS Volcanoes tweets\n",
    "usgs_vol_tweet = soup.find_all('p', class_='TweetTextSize TweetTextSize--normal js-tweet-text tweet-text')[0].text"
   ]
  },
  {
   "cell_type": "code",
   "execution_count": 11,
   "metadata": {},
   "outputs": [
    {
     "name": "stdout",
     "output_type": "stream",
     "text": [
      "Cascade Range volcanoes at background levels of activity this week. View of HUSB station near South Sister. Can't wait for the summer field season. http://bit.ly/2Gzp1wX pic.twitter.com/mRB4cLqCwY\n"
     ]
    }
   ],
   "source": [
    "# Print the results to verify it is correct\n",
    "print(usgs_vol_tweet)"
   ]
  },
  {
   "cell_type": "code",
   "execution_count": 12,
   "metadata": {},
   "outputs": [
    {
     "data": {
      "text/plain": [
       "str"
      ]
     },
     "execution_count": 12,
     "metadata": {},
     "output_type": "execute_result"
    }
   ],
   "source": [
    "type(usgs_vol_tweet)"
   ]
  },
  {
   "cell_type": "code",
   "execution_count": null,
   "metadata": {
    "collapsed": true
   },
   "outputs": [],
   "source": []
  },
  {
   "cell_type": "markdown",
   "metadata": {},
   "source": [
    "# Volcanos News"
   ]
  },
  {
   "cell_type": "code",
   "execution_count": 37,
   "metadata": {
    "collapsed": true
   },
   "outputs": [],
   "source": [
    "# Visit Science Daily to get news on volcanoes\n",
    "vol_news_url = 'https://www.sciencedaily.com/news/earth_climate/volcanoes/'\n",
    "browser.visit(vol_news_url)"
   ]
  },
  {
   "cell_type": "code",
   "execution_count": 38,
   "metadata": {
    "collapsed": true
   },
   "outputs": [],
   "source": [
    "# Retrieve data from Science Daily\n",
    "html = browser.html\n",
    "\n",
    "#Create BeautifulSoup object; parse with 'html.parser'\n",
    "soup = bs(html, 'html.parser')\n"
   ]
  },
  {
   "cell_type": "code",
   "execution_count": 39,
   "metadata": {},
   "outputs": [
    {
     "name": "stdout",
     "output_type": "stream",
     "text": [
      "Tides and Volcanic Eruptions\n"
     ]
    }
   ],
   "source": [
    "# Find the div that will allow you to retrieve the news title\n",
    "# Use this html, do not go back to the website to look for it\n",
    "# Latest news title\n",
    "\n",
    "# vol_news_title = soup.find_all(\"h3\", class_=\"hero\")[0]\n",
    "\n",
    "vol_dailynews_title = soup.find_all(\"h3\", class_=\"hero\")[0].text\n",
    "\n",
    "print(vol_dailynews_title)\n"
   ]
  },
  {
   "cell_type": "code",
   "execution_count": 40,
   "metadata": {},
   "outputs": [
    {
     "name": "stdout",
     "output_type": "stream",
     "text": [
      "https://www.sciencedaily.com/releases/2018/01/180124114150.htm\n"
     ]
    }
   ],
   "source": [
    "link = soup.find_all('div', class_='col-xs-6 col-md-3')[0].find_all('a', href=True)[0]['href']\n",
    "print('https://www.sciencedaily.com'+link)"
   ]
  },
  {
   "cell_type": "code",
   "execution_count": 41,
   "metadata": {},
   "outputs": [
    {
     "data": {
      "text/plain": [
       "'Tides and Volcanic Eruptions'"
      ]
     },
     "execution_count": 41,
     "metadata": {},
     "output_type": "execute_result"
    }
   ],
   "source": [
    "soup.find_all(\"h3\", class_=\"hero\")[0].text"
   ]
  },
  {
   "cell_type": "code",
   "execution_count": 43,
   "metadata": {
    "scrolled": true
   },
   "outputs": [
    {
     "name": "stdout",
     "output_type": "stream",
     "text": [
      "A study of a New Zealand volcano suggests that a volcanic system's response to tidal forces could provide a tool for predicting a certain type of eruption.\n",
      "\n"
     ]
    }
   ],
   "source": [
    "url2 = 'https://www.sciencedaily.com'+link\n",
    "\n",
    "\n",
    "# browser.visit(url2)\n",
    "# html = browser.html\n",
    "# soup = bs(html, 'html.parser')\n",
    "# abstract.append(soup.find(id=\"abstract\").text.replace('\\n',\"\"))\n",
    "    \n",
    "browser.visit(url2)\n",
    "html = browser.html\n",
    "soup = bs(html, 'html.parser')\n",
    "text = print(soup.find_all('dd', id=\"abstract\")[0].text)\n",
    "text\n",
    "# abstract.append(soup.find(id=\"abstract\").text.replace('\\n',\"\"))\n",
    "# volcanoes['abstract'] = abstract"
   ]
  },
  {
   "cell_type": "code",
   "execution_count": null,
   "metadata": {
    "collapsed": true
   },
   "outputs": [],
   "source": [
    "type(l)"
   ]
  },
  {
   "cell_type": "code",
   "execution_count": null,
   "metadata": {
    "collapsed": true
   },
   "outputs": [],
   "source": [
    "volcanoes = {}\n",
    "volcanoes['abstract'] = l"
   ]
  },
  {
   "cell_type": "code",
   "execution_count": null,
   "metadata": {
    "collapsed": true
   },
   "outputs": [],
   "source": [
    "type(volcanoes['abstract'])"
   ]
  },
  {
   "cell_type": "code",
   "execution_count": null,
   "metadata": {
    "collapsed": true
   },
   "outputs": [],
   "source": [
    "volcanoes['abstract'][0]"
   ]
  },
  {
   "cell_type": "markdown",
   "metadata": {},
   "source": [
    "# Volcanoes - Latest Headlines"
   ]
  },
  {
   "cell_type": "code",
   "execution_count": 44,
   "metadata": {
    "collapsed": true
   },
   "outputs": [],
   "source": [
    "# Visit Science Daily to get latest headlines on volcanoes\n",
    "vol_headline_url = 'https://www.sciencedaily.com/news/earth_climate/volcanoes/'\n",
    "browser.visit(vol_headline_url)"
   ]
  },
  {
   "cell_type": "code",
   "execution_count": 45,
   "metadata": {
    "collapsed": true
   },
   "outputs": [],
   "source": [
    "# Retrieve data from Science Daily\n",
    "html = browser.html\n",
    "\n",
    "#Create BeautifulSoup object; parse with 'html.parser'\n",
    "soup = bs(html, 'html.parser')"
   ]
  },
  {
   "cell_type": "code",
   "execution_count": 46,
   "metadata": {},
   "outputs": [
    {
     "name": "stdout",
     "output_type": "stream",
     "text": [
      "Underwater Volcano Behavior Captured by Timely Scientific Expedition\n"
     ]
    }
   ],
   "source": [
    "# Find the div that will allow you to retrieve the latest headline\n",
    "# Use this html, do not go back to the website to look for it\n",
    "# Latest headline\n",
    "\n",
    "vol_headline = soup.find_all(\"h3\", class_=\"latest-head\")[0].text\n",
    "\n",
    "print(vol_headline)"
   ]
  },
  {
   "cell_type": "code",
   "execution_count": 47,
   "metadata": {},
   "outputs": [
    {
     "data": {
      "text/plain": [
       "'/releases/2018/03/180314102021.htm'"
      ]
     },
     "execution_count": 47,
     "metadata": {},
     "output_type": "execute_result"
    }
   ],
   "source": [
    "j = soup.find_all(\"h3\", class_=\"latest-head\")[0].find(\"a\", href=True)['href']\n",
    "j"
   ]
  },
  {
   "cell_type": "code",
   "execution_count": 53,
   "metadata": {},
   "outputs": [
    {
     "name": "stdout",
     "output_type": "stream",
     "text": [
      "Researchers got a rare opportunity to study an underwater volcano in the Caribbean when it erupted while they were surveying the area.\n",
      "\n"
     ]
    }
   ],
   "source": [
    "url3 = 'https://www.sciencedaily.com'+ j\n",
    "browser.visit(url3)\n",
    "html2 = browser.html\n",
    "\n",
    "soup2 = bs(html2, 'html.parser')\n",
    "text2 = print(soup2.find_all('dd', id=\"abstract\")[0].text)\n",
    "text2\n",
    "# volcanoes['abstract2'] = text2\n"
   ]
  },
  {
   "cell_type": "markdown",
   "metadata": {},
   "source": [
    "# Volcano Images - Volcano Discovery - Photo of the Day"
   ]
  },
  {
   "cell_type": "code",
   "execution_count": 60,
   "metadata": {
    "collapsed": true
   },
   "outputs": [],
   "source": [
    "# Volcano Discovery - Photo Of The Day\n",
    "# https://www.volcanodiscovery.com/photo-of-the-day.html\n",
    "\n",
    "vol_photo_url = 'http://yourshot.nationalgeographic.com/tags/volcano/'\n",
    "browser.visit(vol_photo_url)\n",
    "html3 = browser.html\n",
    "soup2 = bs(html3, 'html.parser')"
   ]
  },
  {
   "cell_type": "code",
   "execution_count": 66,
   "metadata": {},
   "outputs": [
    {
     "data": {
      "text/plain": [
       "7"
      ]
     },
     "execution_count": 66,
     "metadata": {},
     "output_type": "execute_result"
    }
   ],
   "source": [
    "import random as rdm\n",
    "rdm.randint(0, 9)"
   ]
  },
  {
   "cell_type": "code",
   "execution_count": 75,
   "metadata": {},
   "outputs": [
    {
     "data": {
      "text/plain": [
       "'http://yourshot.nationalgeographic.com/photos/7777383/'"
      ]
     },
     "execution_count": 75,
     "metadata": {},
     "output_type": "execute_result"
    }
   ],
   "source": [
    "# Find and click the photo of the day image button\n",
    "vol_photo_url = 'http://yourshot.nationalgeographic.com/tags/volcano/'\n",
    "browser.visit(vol_photo_url)\n",
    "html4 = browser.html\n",
    "soup4 = bs(html4, 'html.parser')\n",
    "photo_image_elem = soup4.find_all('a', class_='mainImageOuter')\n",
    "link = photo_image_elem[rdm.randint(0,len(photo_image_elem))]['href']\n",
    "img = 'http://yourshot.nationalgeographic.com'+link\n",
    "img"
   ]
  },
  {
   "cell_type": "code",
   "execution_count": null,
   "metadata": {
    "collapsed": true
   },
   "outputs": [],
   "source": []
  },
  {
   "cell_type": "markdown",
   "metadata": {
    "collapsed": true
   },
   "source": [
    "## find the relative image url\n",
    "img_url_rel = img_soup.find('figure', class_='lede').find('img')['src']\n",
    "img_url_rel"
   ]
  },
  {
   "cell_type": "code",
   "execution_count": null,
   "metadata": {
    "collapsed": true
   },
   "outputs": [],
   "source": [
    "# Use the base url to create an absolute url\n",
    "photo_url = f'https://www.volcanodiscovery.com/{photo_img_url}'\n",
    "photo_url"
   ]
  },
  {
   "cell_type": "code",
   "execution_count": null,
   "metadata": {
    "collapsed": true
   },
   "outputs": [],
   "source": []
  },
  {
   "cell_type": "code",
   "execution_count": null,
   "metadata": {
    "collapsed": true
   },
   "outputs": [],
   "source": []
  },
  {
   "cell_type": "code",
   "execution_count": null,
   "metadata": {
    "collapsed": true
   },
   "outputs": [],
   "source": []
  }
 ],
 "metadata": {
  "kernelspec": {
   "display_name": "Python 3",
   "language": "python",
   "name": "python3"
  },
  "language_info": {
   "codemirror_mode": {
    "name": "ipython",
    "version": 3
   },
   "file_extension": ".py",
   "mimetype": "text/x-python",
   "name": "python",
   "nbconvert_exporter": "python",
   "pygments_lexer": "ipython3",
   "version": "3.6.2"
  }
 },
 "nbformat": 4,
 "nbformat_minor": 2
}
