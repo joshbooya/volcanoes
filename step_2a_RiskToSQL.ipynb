{
 "cells": [
  {
   "cell_type": "code",
   "execution_count": 1,
   "metadata": {
    "collapsed": true
   },
   "outputs": [],
   "source": [
    "import pandas as pd\n",
    "from math import sin, cos, sqrt, atan2, radians\n",
    "import numpy as np\n",
    "import matplotlib.pyplot as plt\n",
    "import seaborn as sns\n",
    "from scipy import stats, integrate\n",
    "sns.set(color_codes=True)\n",
    "from sqlalchemy import create_engine\n",
    "conn = create_engine(\"sqlite:///volcano_app/volcano.sqlite\")"
   ]
  },
  {
   "cell_type": "code",
   "execution_count": 2,
   "metadata": {
    "collapsed": true
   },
   "outputs": [],
   "source": [
    "#erupt_df = pd.read_csv(\"clean_eruptions.csv\")\n",
    "#pop_df = pd.read_csv(\"pops.csv\")\n",
    "erupt_df = pd.read_sql(\"SELECT * FROM eruptions\", conn)\n",
    "# erupt_df = erupt_df.rename(columns = {\"volcano_name\": \"Volcano Name\", \"start_year\":\"Start Year\",\"latitude\":\"Latitude\", \"longitude\":\"Longitude\"})\n",
    "pop_df = pd.read_sql(\"SELECT * FROM worldcities\",conn)"
   ]
  },
  {
   "cell_type": "code",
   "execution_count": 3,
   "metadata": {
    "collapsed": true
   },
   "outputs": [],
   "source": [
    "years = []\n",
    "lats = []\n",
    "longs = []\n",
    "for name in erupt_df[\"volcano_name\"].unique():\n",
    "    temp = erupt_df[erupt_df[\"volcano_name\"]==name]\n",
    "    x = temp[temp[\"start_year\"] == temp[\"start_year\"].max()].iloc[0][[\"start_year\", \"latitude\", \"longitude\"]]\n",
    "    year = x[0]\n",
    "    lat = x[1]\n",
    "    long = x[2]\n",
    "    \n",
    "    years.append(year)\n",
    "    lats.append(lat)\n",
    "    longs.append(long)\n",
    "comp_df = pd.DataFrame(data={\"start_year\":years, \"lat\":lats, \"lng\":longs })"
   ]
  },
  {
   "cell_type": "code",
   "execution_count": 4,
   "metadata": {},
   "outputs": [
    {
     "data": {
      "text/html": [
       "<div>\n",
       "<style>\n",
       "    .dataframe thead tr:only-child th {\n",
       "        text-align: right;\n",
       "    }\n",
       "\n",
       "    .dataframe thead th {\n",
       "        text-align: left;\n",
       "    }\n",
       "\n",
       "    .dataframe tbody tr th {\n",
       "        vertical-align: top;\n",
       "    }\n",
       "</style>\n",
       "<table border=\"1\" class=\"dataframe\">\n",
       "  <thead>\n",
       "    <tr style=\"text-align: right;\">\n",
       "      <th></th>\n",
       "      <th>lat</th>\n",
       "      <th>lng</th>\n",
       "      <th>start_year</th>\n",
       "    </tr>\n",
       "  </thead>\n",
       "  <tbody>\n",
       "    <tr>\n",
       "      <th>0</th>\n",
       "      <td>-77.53</td>\n",
       "      <td>167.17</td>\n",
       "      <td>1972</td>\n",
       "    </tr>\n",
       "    <tr>\n",
       "      <th>1</th>\n",
       "      <td>-76.28</td>\n",
       "      <td>-112.08</td>\n",
       "      <td>-5550</td>\n",
       "    </tr>\n",
       "    <tr>\n",
       "      <th>2</th>\n",
       "      <td>-76.05</td>\n",
       "      <td>-136.00</td>\n",
       "      <td>-8350</td>\n",
       "    </tr>\n",
       "    <tr>\n",
       "      <th>3</th>\n",
       "      <td>-74.35</td>\n",
       "      <td>164.70</td>\n",
       "      <td>1892</td>\n",
       "    </tr>\n",
       "    <tr>\n",
       "      <th>4</th>\n",
       "      <td>-74.33</td>\n",
       "      <td>-99.42</td>\n",
       "      <td>-210</td>\n",
       "    </tr>\n",
       "  </tbody>\n",
       "</table>\n",
       "</div>"
      ],
      "text/plain": [
       "     lat     lng  start_year\n",
       "0 -77.53  167.17        1972\n",
       "1 -76.28 -112.08       -5550\n",
       "2 -76.05 -136.00       -8350\n",
       "3 -74.35  164.70        1892\n",
       "4 -74.33  -99.42        -210"
      ]
     },
     "execution_count": 4,
     "metadata": {},
     "output_type": "execute_result"
    }
   ],
   "source": [
    "comp_df.head()"
   ]
  },
  {
   "cell_type": "code",
   "execution_count": 5,
   "metadata": {
    "collapsed": true
   },
   "outputs": [],
   "source": [
    "pop_df.head()\n",
    "pop_df = pop_df[[\"city\", \"lat\", \"lng\", \"pop\", \"country\"]]\n",
    "# pop_df = pop_df.rename(columns = {\"city\":\"City\", \"lat\":\"Latitude\", \"lng\":\"Longitude\", \"pop\":\"Population\", \"country\":\"Country\"})"
   ]
  },
  {
   "cell_type": "code",
   "execution_count": 6,
   "metadata": {
    "collapsed": true
   },
   "outputs": [],
   "source": [
    "def lat_long_dist(lat1,lon1,lat2,lon2):\n",
    "    R = 6373.0\n",
    "    dlon = lon2 - lon1\n",
    "    dlat = lat2 - lat1\n",
    "    a = sin(dlat / 2)**2 + cos(lat1) * cos(lat2) * sin(dlon / 2)**2\n",
    "    c = 2 * atan2(sqrt(a), sqrt(1 - a))\n",
    "    distance = R * c\n",
    "    return distance   "
   ]
  },
  {
   "cell_type": "code",
   "execution_count": 7,
   "metadata": {
    "collapsed": true
   },
   "outputs": [],
   "source": [
    "years = []\n",
    "dists = []\n",
    "for _, pop_row in pop_df.iterrows():\n",
    "    min_dist = np.inf\n",
    "    min_time = 0\n",
    "    for _, comp_row in comp_df.iterrows():\n",
    "        dist = lat_long_dist(pop_row[\"lat\"], pop_row[\"lng\"], comp_row[\"lat\"], comp_row[\"lng\"])\n",
    "        if dist < min_dist:\n",
    "            min_dist = dist\n",
    "            min_time = comp_row[\"start_year\"]\n",
    "    years.append(min_time)\n",
    "    dists.append(min_dist)"
   ]
  },
  {
   "cell_type": "code",
   "execution_count": 8,
   "metadata": {
    "collapsed": true
   },
   "outputs": [],
   "source": [
    "pop_df['time'] = years\n",
    "pop_df['time'] = 2020 - pop_df['time']\n",
    "pop_df[\"dist\"] = dists"
   ]
  },
  {
   "cell_type": "code",
   "execution_count": 9,
   "metadata": {},
   "outputs": [
    {
     "name": "stdout",
     "output_type": "stream",
     "text": [
      "<class 'pandas.core.frame.DataFrame'>\n",
      "RangeIndex: 7322 entries, 0 to 7321\n",
      "Data columns (total 7 columns):\n",
      "city       7322 non-null object\n",
      "lat        7322 non-null float64\n",
      "lng        7322 non-null float64\n",
      "pop        7322 non-null float64\n",
      "country    7322 non-null object\n",
      "time       7322 non-null float64\n",
      "dist       7322 non-null float64\n",
      "dtypes: float64(5), object(2)\n",
      "memory usage: 400.5+ KB\n"
     ]
    }
   ],
   "source": [
    "pop_df.info()"
   ]
  },
  {
   "cell_type": "code",
   "execution_count": 10,
   "metadata": {
    "collapsed": true
   },
   "outputs": [],
   "source": [
    "new_df = pop_df[pop_df[\"pop\"] > 1000 ]"
   ]
  },
  {
   "cell_type": "code",
   "execution_count": 11,
   "metadata": {},
   "outputs": [
    {
     "name": "stderr",
     "output_type": "stream",
     "text": [
      "/Users/jbui/anaconda3/lib/python3.6/site-packages/ipykernel_launcher.py:1: SettingWithCopyWarning: \n",
      "A value is trying to be set on a copy of a slice from a DataFrame.\n",
      "Try using .loc[row_indexer,col_indexer] = value instead\n",
      "\n",
      "See the caveats in the documentation: http://pandas.pydata.org/pandas-docs/stable/indexing.html#indexing-view-versus-copy\n",
      "  \"\"\"Entry point for launching an IPython kernel.\n"
     ]
    }
   ],
   "source": [
    "new_df[\"risk\"] = np.log(np.log( new_df[\"pop\"] + 2 )/( np.log(new_df[\"time\"] + 2)*np.square( new_df[\"dist\"] + 2 )))"
   ]
  },
  {
   "cell_type": "code",
   "execution_count": 12,
   "metadata": {},
   "outputs": [
    {
     "name": "stderr",
     "output_type": "stream",
     "text": [
      "/Users/jbui/anaconda3/lib/python3.6/site-packages/ipykernel_launcher.py:3: SettingWithCopyWarning: \n",
      "A value is trying to be set on a copy of a slice from a DataFrame.\n",
      "Try using .loc[row_indexer,col_indexer] = value instead\n",
      "\n",
      "See the caveats in the documentation: http://pandas.pydata.org/pandas-docs/stable/indexing.html#indexing-view-versus-copy\n",
      "  This is separate from the ipykernel package so we can avoid doing imports until\n"
     ]
    }
   ],
   "source": [
    "min_thing = new_df[\"risk\"].min()\n",
    "max_thing = new_df[\"risk\"].max()\n",
    "new_df[\"risk\"] = new_df[\"risk\"].map(lambda x: (x-min_thing)*10/(max_thing-min_thing))"
   ]
  },
  {
   "cell_type": "code",
   "execution_count": 13,
   "metadata": {},
   "outputs": [
    {
     "data": {
      "text/plain": [
       "10.0"
      ]
     },
     "execution_count": 13,
     "metadata": {},
     "output_type": "execute_result"
    }
   ],
   "source": [
    "new_df[\"risk\"].max()"
   ]
  },
  {
   "cell_type": "code",
   "execution_count": 14,
   "metadata": {},
   "outputs": [
    {
     "data": {
      "text/plain": [
       "<matplotlib.axes._subplots.AxesSubplot at 0x1a115b78d0>"
      ]
     },
     "execution_count": 14,
     "metadata": {},
     "output_type": "execute_result"
    }
   ],
   "source": [
    "sns.distplot(new_df[\"risk\"],bins=100, fit=stats.norm)"
   ]
  },
  {
   "cell_type": "code",
   "execution_count": 15,
   "metadata": {},
   "outputs": [
    {
     "data": {
      "text/plain": [
       "<matplotlib.axes._subplots.AxesSubplot at 0x1a115b78d0>"
      ]
     },
     "execution_count": 15,
     "metadata": {},
     "output_type": "execute_result"
    }
   ],
   "source": [
    "sns.distplot(new_df[\"risk\"],bins=100, fit=stats.gamma)"
   ]
  },
  {
   "cell_type": "code",
   "execution_count": 16,
   "metadata": {},
   "outputs": [
    {
     "data": {
      "text/plain": [
       "KstestResult(statistic=0.008462635085641157, pvalue=0.70613338779940471)"
      ]
     },
     "execution_count": 16,
     "metadata": {},
     "output_type": "execute_result"
    }
   ],
   "source": [
    "params = stats.gamma.fit(new_df[\"risk\"])\n",
    "stats.kstest(new_df[\"risk\"], lambda x : stats.gamma.cdf(x, *params))"
   ]
  },
  {
   "cell_type": "code",
   "execution_count": 17,
   "metadata": {},
   "outputs": [
    {
     "data": {
      "text/plain": [
       "KstestResult(statistic=0.056261401023143698, pvalue=2.1124283959489008e-19)"
      ]
     },
     "execution_count": 17,
     "metadata": {},
     "output_type": "execute_result"
    }
   ],
   "source": [
    "params = stats.norm.fit(new_df[\"risk\"])\n",
    "stats.kstest(new_df[\"risk\"], lambda x : stats.norm.cdf(x, *params))"
   ]
  },
  {
   "cell_type": "code",
   "execution_count": 18,
   "metadata": {
    "collapsed": true
   },
   "outputs": [],
   "source": [
    "#We can use a KS test to determine the goodness of fit. But.... I don't really know how to use that."
   ]
  },
  {
   "cell_type": "code",
   "execution_count": 19,
   "metadata": {},
   "outputs": [
    {
     "data": {
      "text/plain": [
       "(7.2834667647082458, -0.4423556277303623, 0.45627193334610117)"
      ]
     },
     "execution_count": 19,
     "metadata": {},
     "output_type": "execute_result"
    }
   ],
   "source": [
    "stats.gamma.fit(new_df[\"risk\"])"
   ]
  },
  {
   "cell_type": "markdown",
   "metadata": {},
   "source": [
    "The pdf for the gamma distribution is $f(x; \\alpha, \\beta) = \\frac{\\beta^{\\alpha}}{\\Gamma(\\alpha)}x^{\\alpha-1}e^{-\\beta x}$. If we write $x = \\log y$ and note that $dx = dy/y$, we get $f(y; \\alpha,\\beta) = \\frac{\\beta^{\\alpha}}{\\Gamma(\\alpha)} y^{-(\\beta + 1)} (\\log y)^{\\alpha - 1}  $."
   ]
  },
  {
   "cell_type": "code",
   "execution_count": 27,
   "metadata": {
    "collapsed": true
   },
   "outputs": [],
   "source": [
    "new_df.to_csv(\"finalized_data/risk_data.csv\")"
   ]
  },
  {
   "cell_type": "code",
   "execution_count": 23,
   "metadata": {},
   "outputs": [
    {
     "name": "stdout",
     "output_type": "stream",
     "text": [
      "<class 'pandas.core.frame.DataFrame'>\n",
      "Int64Index: 6902 entries, 0 to 7321\n",
      "Data columns (total 8 columns):\n",
      "city       6902 non-null object\n",
      "lat        6902 non-null float64\n",
      "lng        6902 non-null float64\n",
      "pop        6902 non-null float64\n",
      "country    6902 non-null object\n",
      "time       6902 non-null float64\n",
      "dist       6902 non-null float64\n",
      "risk       6902 non-null float64\n",
      "dtypes: float64(6), object(2)\n",
      "memory usage: 485.3+ KB\n"
     ]
    }
   ],
   "source": [
    "new_df.info()"
   ]
  },
  {
   "cell_type": "code",
   "execution_count": 62,
   "metadata": {},
   "outputs": [
    {
     "name": "stdout",
     "output_type": "stream",
     "text": [
      "['berkeleydata', 'eruptions', 'risk', 'risk_stats', 'tempinfo', 'worldcities']\n"
     ]
    }
   ],
   "source": [
    "print(conn.table_names())"
   ]
  },
  {
   "cell_type": "code",
   "execution_count": 63,
   "metadata": {},
   "outputs": [
    {
     "data": {
      "text/plain": [
       "Index(['id', 'city', 'lat', 'lng', 'pop', 'country', 'time', 'dist', 'risk'], dtype='object')"
      ]
     },
     "execution_count": 63,
     "metadata": {},
     "output_type": "execute_result"
    }
   ],
   "source": [
    "risk_df = pd.read_sql(\"SELECT * FROM risk\", conn)\n",
    "risk_df.columns"
   ]
  },
  {
   "cell_type": "code",
   "execution_count": 64,
   "metadata": {},
   "outputs": [
    {
     "data": {
      "text/plain": [
       "Index(['index', 'gamma_fit', 'gaussian_fit', 'kde_fit', 'risk'], dtype='object')"
      ]
     },
     "execution_count": 64,
     "metadata": {},
     "output_type": "execute_result"
    }
   ],
   "source": []
  },
  {
   "cell_type": "code",
   "execution_count": 43,
   "metadata": {},
   "outputs": [
    {
     "data": {
      "text/plain": [
       "(7.2834667647076516, -0.44235562773034021, 0.45627193334610117)"
      ]
     },
     "execution_count": 43,
     "metadata": {},
     "output_type": "execute_result"
    }
   ],
   "source": [
    "stats.gamma.fit(risk_df[\"risk\"])"
   ]
  },
  {
   "cell_type": "code",
   "execution_count": 46,
   "metadata": {},
   "outputs": [
    {
     "data": {
      "text/plain": [
       "Index(['id', 'year', 'log_CO2_277_3', 'volcanic', 'temperature_C', 'fit'], dtype='object')"
      ]
     },
     "execution_count": 46,
     "metadata": {},
     "output_type": "execute_result"
    }
   ],
   "source": [
    "berkeley_df = pd.read_sql(\"SELECT * FROM berkeleydata\", conn)\n",
    "berkeley_df.columns"
   ]
  },
  {
   "cell_type": "code",
   "execution_count": 47,
   "metadata": {
    "collapsed": true
   },
   "outputs": [],
   "source": [
    "def pdf(x):\n",
    "    alpha = 7.28\n",
    "    loc = -0.442\n",
    "    beta = 1/0.456\n",
    "    y = x  - loc\n",
    "    return beta**(alpha) * y**(alpha - 1)*np.exp(-beta * y) /gamma(alpha)"
   ]
  },
  {
   "cell_type": "code",
   "execution_count": 49,
   "metadata": {},
   "outputs": [
    {
     "data": {
      "image/png": "[encoded data removed]",
      "text/plain": [
       "<matplotlib.figure.Figure at 0x1a112605f8>"
      ]
     },
     "metadata": {},
     "output_type": "display_data"
    }
   ],
   "source": [
    "x = np.arange(-0.4,10,0.1)\n",
    "y = pdf(x)\n",
    "plt.plot(x,y)\n",
    "plt.show()"
   ]
  },
  {
   "cell_type": "code",
   "execution_count": 50,
   "metadata": {},
   "outputs": [
    {
     "data": {
      "image/png": "[encoded data removed]",
      "text/plain": [
       "<matplotlib.figure.Figure at 0x1a1a895438>"
      ]
     },
     "metadata": {},
     "output_type": "display_data"
    }
   ],
   "source": [
    "sns.distplot(risk_df[\"risk\"],bins=100, fit=stats.gamma)\n",
    "plt.show()"
   ]
  },
  {
   "cell_type": "code",
   "execution_count": 51,
   "metadata": {},
   "outputs": [
    {
     "data": {
      "image/png": "[encoded data removed]",
      "text/plain": [
       "<matplotlib.figure.Figure at 0x108f12240>"
      ]
     },
     "metadata": {},
     "output_type": "display_data"
    }
   ],
   "source": [
    "sns.kdeplot(risk_df[\"risk\"])\n",
    "plt.show()"
   ]
  },
  {
   "cell_type": "code",
   "execution_count": 52,
   "metadata": {
    "collapsed": true
   },
   "outputs": [],
   "source": [
    "n = len(risk_df[\"risk\"])\n",
    "h = n**(-1/5)\n",
    "def k(x): return np.exp(- x**2 / (2*h**2) )/(n*np.sqrt(2* np.pi * h**2))\n",
    "def pdf_k(x): return np.sum( k(x - risk_df[\"risk\"]) )\n",
    "#def pdf_k(x): return sum([ k(x - risk_df['risk'][j] ) for j in range(len(risk_df[\"risk\"])) ])"
   ]
  },
  {
   "cell_type": "code",
   "execution_count": 53,
   "metadata": {},
   "outputs": [
    {
     "data": {
      "image/png": "[encoded data removed]",
      "text/plain": [
       "<matplotlib.figure.Figure at 0x1a1a3cd198>"
      ]
     },
     "metadata": {},
     "output_type": "display_data"
    }
   ],
   "source": [
    "x = np.arange(0.,10,0.001)\n",
    "y = np.array( [pdf_k(x[j]) for j in range(len(x))] )\n",
    "plt.plot(x,y)\n",
    "plt.show()"
   ]
  },
  {
   "cell_type": "code",
   "execution_count": 54,
   "metadata": {
    "collapsed": true
   },
   "outputs": [],
   "source": [
    "x = np.array(risk_df[\"risk\"].sort_values())\n",
    "y1 = pdf(x)\n",
    "y2 = [pdf_k( x[j] ) for j in range(len(x))] \n",
    "y3 = stats.norm.pdf(x, 2.88, 1.24)"
   ]
  },
  {
   "cell_type": "code",
   "execution_count": 55,
   "metadata": {},
   "outputs": [
    {
     "data": {
      "image/png": "[encoded data removed]",
      "text/plain": [
       "<matplotlib.figure.Figure at 0x1a1a490320>"
      ]
     },
     "metadata": {},
     "output_type": "display_data"
    }
   ],
   "source": [
    "plt.plot(x,y1, x, y3, x, y2)\n",
    "#plt.plot(x,y2)\n",
    "#plt.plot(x,y3)\n",
    "plt.show()"
   ]
  },
  {
   "cell_type": "code",
   "execution_count": 56,
   "metadata": {
    "collapsed": true
   },
   "outputs": [],
   "source": [
    "risk_stats_df = pd.DataFrame({\"risk\":x, \"kde_fit\":y2, \"gaussian_fit\":y3, \"gamma_fit\":y1})"
   ]
  },
  {
   "cell_type": "code",
   "execution_count": 57,
   "metadata": {
    "collapsed": true
   },
   "outputs": [],
   "source": [
    "risk_stats_df.to_sql('risk_stats',conn)"
   ]
  },
  {
   "cell_type": "code",
   "execution_count": 65,
   "metadata": {},
   "outputs": [
    {
     "data": {
      "text/plain": [
       "Index(['index', 'gamma_fit', 'gaussian_fit', 'kde_fit', 'risk'], dtype='object')"
      ]
     },
     "execution_count": 65,
     "metadata": {},
     "output_type": "execute_result"
    }
   ],
   "source": [
    "riskstats_df = pd.read_sql(\"SELECT * FROM risk_stats\", conn)\n",
    "riskstats_df.columns"
   ]
  },
  {
   "cell_type": "code",
   "execution_count": 59,
   "metadata": {},
   "outputs": [
    {
     "data": {
      "image/png": "[encoded data removed]",
      "text/plain": [
       "<matplotlib.figure.Figure at 0x1a11299048>"
      ]
     },
     "metadata": {},
     "output_type": "display_data"
    }
   ],
   "source": [
    "plt.plot(x,y2)\n",
    "plt.show()"
   ]
  },
  {
   "cell_type": "code",
   "execution_count": 60,
   "metadata": {},
   "outputs": [
    {
     "data": {
      "text/plain": [
       "0       0.003355\n",
       "1       0.005530\n",
       "2       0.005697\n",
       "3       0.006247\n",
       "4       0.006963\n",
       "5       0.007155\n",
       "6       0.007386\n",
       "7       0.007477\n",
       "8       0.008309\n",
       "9       0.008429\n",
       "10      0.008924\n",
       "11      0.008987\n",
       "12      0.009524\n",
       "13      0.010723\n",
       "14      0.011386\n",
       "15      0.012610\n",
       "16      0.013340\n",
       "17      0.013420\n",
       "18      0.013922\n",
       "19      0.014000\n",
       "20      0.014329\n",
       "21      0.014801\n",
       "22      0.016413\n",
       "23      0.018200\n",
       "24      0.018803\n",
       "25      0.019004\n",
       "26      0.021701\n",
       "27      0.021751\n",
       "28      0.021814\n",
       "29      0.021890\n",
       "          ...   \n",
       "6872    0.007864\n",
       "6873    0.007852\n",
       "6874    0.007817\n",
       "6875    0.007804\n",
       "6876    0.007339\n",
       "6877    0.007051\n",
       "6878    0.006990\n",
       "6879    0.006818\n",
       "6880    0.005897\n",
       "6881    0.005694\n",
       "6882    0.005380\n",
       "6883    0.004605\n",
       "6884    0.004472\n",
       "6885    0.004324\n",
       "6886    0.004135\n",
       "6887    0.003964\n",
       "6888    0.003949\n",
       "6889    0.003807\n",
       "6890    0.003802\n",
       "6891    0.003546\n",
       "6892    0.003505\n",
       "6893    0.003168\n",
       "6894    0.002871\n",
       "6895    0.002100\n",
       "6896    0.001226\n",
       "6897    0.001100\n",
       "6898    0.000814\n",
       "6899    0.000884\n",
       "6900    0.000743\n",
       "6901    0.000339\n",
       "Length: 6902, dtype: float64"
      ]
     },
     "execution_count": 60,
     "metadata": {},
     "output_type": "execute_result"
    }
   ],
   "source": [
    "pd.Series(y2)"
   ]
  },
  {
   "cell_type": "code",
   "execution_count": 61,
   "metadata": {},
   "outputs": [
    {
     "data": {
      "text/plain": [
       "array([  0.        ,   0.09522548,   0.10197757, ...,   8.74323855,\n",
       "         8.8537744 ,  10.        ])"
      ]
     },
     "execution_count": 61,
     "metadata": {},
     "output_type": "execute_result"
    }
   ],
   "source": [
    "np.array(risk_df[\"risk\"].sort_values())"
   ]
  },
  {
   "cell_type": "code",
   "execution_count": null,
   "metadata": {
    "collapsed": true
   },
   "outputs": [],
   "source": []
  }
 ],
 "metadata": {
  "kernelspec": {
   "display_name": "Python 3",
   "language": "python",
   "name": "python3"
  },
  "language_info": {
   "codemirror_mode": {
    "name": "ipython",
    "version": 3
   },
   "file_extension": ".py",
   "mimetype": "text/x-python",
   "name": "python",
   "nbconvert_exporter": "python",
   "pygments_lexer": "ipython3",
   "version": "3.6.2"
  }
 },
 "nbformat": 4,
 "nbformat_minor": 2
}
